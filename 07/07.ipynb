{
 "cells": [
  {
   "cell_type": "code",
   "execution_count": 1,
   "id": "7c2f7550",
   "metadata": {},
   "outputs": [],
   "source": [
    "programs_above = {}\n",
    "programs_below = {}\n",
    "program_weights = {}\n",
    "\n",
    "with open('input') as f:\n",
    "    for line in f:\n",
    "        name = line.split()[0]\n",
    "        program_weights[name] = int(line.split()[1][1:-1])\n",
    "        progs_above = set(\n",
    "            line.strip().split('-> ')[1].split(', ')\n",
    "        ) if '->' in line else set()\n",
    "        programs_above[name] = progs_above\n",
    "        for prog in progs_above:\n",
    "            programs_below[prog] = name"
   ]
  },
  {
   "cell_type": "code",
   "execution_count": 2,
   "id": "a7c29d48",
   "metadata": {},
   "outputs": [
    {
     "name": "stdout",
     "output_type": "stream",
     "text": [
      "Part 1:\n",
      "cqmvs\n"
     ]
    }
   ],
   "source": [
    "programs_with_none_above = set(programs_above) - set(programs_below)\n",
    "bottom_program = programs_with_none_above.pop()\n",
    "print(\"Part 1:\")\n",
    "print(bottom_program)"
   ]
  },
  {
   "cell_type": "code",
   "execution_count": 3,
   "id": "69de5558",
   "metadata": {},
   "outputs": [],
   "source": [
    "def sum_weights_above(program):\n",
    "    return program_weights[program] + sum(sum_weights_above(p) for p in programs_above[program])"
   ]
  },
  {
   "cell_type": "code",
   "execution_count": 4,
   "id": "ffb4cf21",
   "metadata": {},
   "outputs": [],
   "source": [
    "def get_weight_difference(program):\n",
    "    siblings = programs_above[programs_below[program]] - {program}\n",
    "    sibling_weights = {sum_weights_above(sib) for sib in siblings}\n",
    "    if len(sibling_weights) == 1:\n",
    "        weight_of_siblings = sibling_weights.pop()\n",
    "        diff = weight_of_siblings - sum_weights_above(program)\n",
    "        if diff != 0:\n",
    "            return program_weights[program] + diff"
   ]
  },
  {
   "cell_type": "code",
   "execution_count": 5,
   "id": "25d2f1ff",
   "metadata": {},
   "outputs": [],
   "source": [
    "for prog in programs_below:\n",
    "    diff = get_weight_difference(prog)\n",
    "    if diff:\n",
    "        break"
   ]
  },
  {
   "cell_type": "code",
   "execution_count": 6,
   "id": "5e6b59f2",
   "metadata": {},
   "outputs": [
    {
     "name": "stdout",
     "output_type": "stream",
     "text": [
      "Part 2:\n",
      "2310\n"
     ]
    }
   ],
   "source": [
    "print(\"Part 2:\")\n",
    "print(diff)"
   ]
  }
 ],
 "metadata": {
  "kernelspec": {
   "display_name": "Python 3",
   "language": "python",
   "name": "python3"
  },
  "language_info": {
   "codemirror_mode": {
    "name": "ipython",
    "version": 3
   },
   "file_extension": ".py",
   "mimetype": "text/x-python",
   "name": "python",
   "nbconvert_exporter": "python",
   "pygments_lexer": "ipython3",
   "version": "3.10.0"
  }
 },
 "nbformat": 4,
 "nbformat_minor": 5
}
