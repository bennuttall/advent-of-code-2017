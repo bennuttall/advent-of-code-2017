{
 "cells": [
  {
   "cell_type": "code",
   "execution_count": 1,
   "id": "5b0ad600",
   "metadata": {},
   "outputs": [],
   "source": [
    "def get_message():\n",
    "    with open('input') as f:\n",
    "        return [int(line.strip()) for line in f]"
   ]
  },
  {
   "cell_type": "code",
   "execution_count": 2,
   "id": "f19088c0",
   "metadata": {},
   "outputs": [
    {
     "name": "stdout",
     "output_type": "stream",
     "text": [
      "Part 1:\n",
      "343467\n"
     ]
    }
   ],
   "source": [
    "message = get_message()\n",
    "pos = 0\n",
    "steps = 0\n",
    "while True:\n",
    "    steps += 1\n",
    "    next_pos = pos + message[pos]\n",
    "    message[pos] += 1\n",
    "    pos = next_pos\n",
    "    if pos >= len(message):\n",
    "        break\n",
    "    \n",
    "print(\"Part 1:\")\n",
    "print(steps)"
   ]
  },
  {
   "cell_type": "code",
   "execution_count": 3,
   "id": "921264f7",
   "metadata": {},
   "outputs": [
    {
     "name": "stdout",
     "output_type": "stream",
     "text": [
      "Part 2:\n",
      "24774780\n"
     ]
    }
   ],
   "source": [
    "message = get_message()\n",
    "pos = 0\n",
    "steps = 0\n",
    "while True:\n",
    "    steps += 1\n",
    "    next_pos = pos + message[pos]\n",
    "    if message[pos] >= 3:\n",
    "        message[pos] -= 1\n",
    "    else:\n",
    "        message[pos] += 1\n",
    "    pos = next_pos\n",
    "    if pos >= len(message):\n",
    "        break\n",
    "    \n",
    "print(\"Part 2:\")\n",
    "print(steps)"
   ]
  }
 ],
 "metadata": {
  "kernelspec": {
   "display_name": "Python 3",
   "language": "python",
   "name": "python3"
  },
  "language_info": {
   "codemirror_mode": {
    "name": "ipython",
    "version": 3
   },
   "file_extension": ".py",
   "mimetype": "text/x-python",
   "name": "python",
   "nbconvert_exporter": "python",
   "pygments_lexer": "ipython3",
   "version": "3.10.0"
  }
 },
 "nbformat": 4,
 "nbformat_minor": 5
}
