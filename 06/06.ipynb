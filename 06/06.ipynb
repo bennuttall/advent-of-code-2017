{
 "cells": [
  {
   "cell_type": "code",
   "execution_count": 1,
   "id": "42849c67",
   "metadata": {},
   "outputs": [],
   "source": [
    "with open('input') as f:\n",
    "    blocks = [int(n) for n in f.read().split()]"
   ]
  },
  {
   "cell_type": "code",
   "execution_count": 2,
   "id": "667c2535",
   "metadata": {},
   "outputs": [],
   "source": [
    "seen_states = {}\n",
    "cycles = 0\n",
    "while True:\n",
    "    if tuple(blocks) in seen_states:\n",
    "        break\n",
    "    cycles += 1\n",
    "    seen_states[tuple(blocks)] = cycles\n",
    "    pos = blocks.index(max(blocks))\n",
    "    reallocation = blocks[pos]\n",
    "    blocks[pos] = 0\n",
    "    for i in range(reallocation):\n",
    "        pos = (pos + 1) % len(blocks)\n",
    "        blocks[pos] += 1"
   ]
  },
  {
   "cell_type": "code",
   "execution_count": 3,
   "id": "d1a01dcc",
   "metadata": {},
   "outputs": [
    {
     "name": "stdout",
     "output_type": "stream",
     "text": [
      "Part 1:\n",
      "4074\n"
     ]
    }
   ],
   "source": [
    "print(\"Part 1:\")\n",
    "print(cycles)"
   ]
  },
  {
   "cell_type": "code",
   "execution_count": 4,
   "id": "7ccf491a",
   "metadata": {},
   "outputs": [
    {
     "name": "stdout",
     "output_type": "stream",
     "text": [
      "Part 2:\n",
      "2793\n"
     ]
    }
   ],
   "source": [
    "print(\"Part 2:\")\n",
    "print(cycles - seen_states[tuple(blocks)] + 1)"
   ]
  }
 ],
 "metadata": {
  "kernelspec": {
   "display_name": "Python 3",
   "language": "python",
   "name": "python3"
  },
  "language_info": {
   "codemirror_mode": {
    "name": "ipython",
    "version": 3
   },
   "file_extension": ".py",
   "mimetype": "text/x-python",
   "name": "python",
   "nbconvert_exporter": "python",
   "pygments_lexer": "ipython3",
   "version": "3.10.0"
  }
 },
 "nbformat": 4,
 "nbformat_minor": 5
}
