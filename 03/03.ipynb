{
 "cells": [
  {
   "cell_type": "code",
   "execution_count": 32,
   "metadata": {},
   "outputs": [],
   "source": [
    "import itertools\n",
    "\n",
    "def calc_distance(target):\n",
    "    if target == 1:\n",
    "        return 0\n",
    "    ops = itertools.cycle(('R', 'U', 'L', 'D'))\n",
    "    deltas = {\n",
    "        'R': (1, 0),\n",
    "        'U': (0, 1),\n",
    "        'L': (-1, 0),\n",
    "        'D': (0, -1),\n",
    "    }\n",
    "    pos = (0, 0)\n",
    "    grid = {pos}\n",
    "    t = 1\n",
    "    n = 0\n",
    "    while t < target:\n",
    "        op = next(ops)\n",
    "        if op in 'RL':\n",
    "            n += 1\n",
    "        for nx in range(n):\n",
    "            delta = deltas[op]\n",
    "            pos = (pos[0] + delta[0], pos[1] + delta[1])\n",
    "            grid.add(pos)\n",
    "            t += 1\n",
    "            if t == target:\n",
    "                return sum(abs(p) for p in pos)"
   ]
  },
  {
   "cell_type": "code",
   "execution_count": 33,
   "metadata": {},
   "outputs": [
    {
     "name": "stdout",
     "output_type": "stream",
     "text": [
      "Part 1:\n",
      "419\n"
     ]
    }
   ],
   "source": [
    "print(\"Part 1:\")\n",
    "print(calc_distance(289326))"
   ]
  },
  {
   "cell_type": "code",
   "execution_count": 34,
   "metadata": {},
   "outputs": [],
   "source": [
    "def sum_neighbours(pos, grid):\n",
    "    neighbours = {\n",
    "        (pos[0] - 1, pos[1] - 1), (pos[0], pos[1] - 1), (pos[0] + 1, pos[1] - 1),\n",
    "        (pos[0] - 1, pos[1] + 0), (pos[0], pos[1] + 0), (pos[0] + 1, pos[1] + 0),\n",
    "        (pos[0] - 1, pos[1] + 1), (pos[0], pos[1] + 1), (pos[0] + 1, pos[1] + 1),\n",
    "    }\n",
    "    return sum(grid[p] for p in neighbours if p in grid)"
   ]
  },
  {
   "cell_type": "code",
   "execution_count": 39,
   "metadata": {},
   "outputs": [],
   "source": [
    "def calc_distance_2(target):\n",
    "    ops = itertools.cycle(('R', 'U', 'L', 'D'))\n",
    "    deltas = {\n",
    "        'R': (1, 0),\n",
    "        'U': (0, 1),\n",
    "        'L': (-1, 0),\n",
    "        'D': (0, -1),\n",
    "    }\n",
    "    pos = (0, 0)\n",
    "    grid = {\n",
    "        pos: 1,\n",
    "    }\n",
    "    t = 1\n",
    "    n = 0\n",
    "    while t < target:\n",
    "        op = next(ops)\n",
    "        if op in 'RL':\n",
    "            n += 1\n",
    "        for nx in range(n):\n",
    "            delta = deltas[op]\n",
    "            pos = (pos[0] + delta[0], pos[1] + delta[1])\n",
    "            grid[pos] = sum_neighbours(pos, grid)\n",
    "            t = grid[pos]\n",
    "            if t > target:\n",
    "                return t"
   ]
  },
  {
   "cell_type": "code",
   "execution_count": 40,
   "metadata": {},
   "outputs": [
    {
     "name": "stdout",
     "output_type": "stream",
     "text": [
      "Part 2:\n",
      "295229\n"
     ]
    }
   ],
   "source": [
    "print(\"Part 2:\")\n",
    "print(calc_distance_2(289326))"
   ]
  },
  {
   "cell_type": "code",
   "execution_count": null,
   "metadata": {},
   "outputs": [],
   "source": []
  }
 ],
 "metadata": {
  "kernelspec": {
   "display_name": "Python 3",
   "language": "python",
   "name": "python3"
  },
  "language_info": {
   "codemirror_mode": {
    "name": "ipython",
    "version": 3
   },
   "file_extension": ".py",
   "mimetype": "text/x-python",
   "name": "python",
   "nbconvert_exporter": "python",
   "pygments_lexer": "ipython3",
   "version": "3.8.5"
  }
 },
 "nbformat": 4,
 "nbformat_minor": 4
}
