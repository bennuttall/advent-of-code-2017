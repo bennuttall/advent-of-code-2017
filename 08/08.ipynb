{
 "cells": [
  {
   "cell_type": "code",
   "execution_count": 1,
   "id": "86833e06",
   "metadata": {},
   "outputs": [],
   "source": [
    "def process_instruction(line):\n",
    "    parts = line.split()\n",
    "    action = (parts[0], parts[1], int(parts[2]))\n",
    "    condition = (parts[4], parts[5], int(parts[6]))\n",
    "    return (action, condition)"
   ]
  },
  {
   "cell_type": "code",
   "execution_count": 2,
   "id": "7c39cc6e",
   "metadata": {},
   "outputs": [],
   "source": [
    "with open('input') as f:\n",
    "    instructions = [\n",
    "        process_instruction(line.strip())\n",
    "        for line in f\n",
    "    ]"
   ]
  },
  {
   "cell_type": "code",
   "execution_count": 3,
   "id": "1805c212",
   "metadata": {},
   "outputs": [],
   "source": [
    "def do_instruction(action, condition):\n",
    "    cond_reg, cond_op, cond_n = condition\n",
    "    cond_val = registers[cond_reg]\n",
    "    cond = {\n",
    "        '>': cond_val > cond_n,\n",
    "        '<': cond_val < cond_n,\n",
    "        '==': cond_val == cond_n,\n",
    "        '!=': cond_val != cond_n,\n",
    "        '>=': cond_val >= cond_n,\n",
    "        '<=': cond_val <= cond_n,\n",
    "    }[cond_op]\n",
    "    if cond:\n",
    "        reg, op, n = action\n",
    "        val = registers[reg]\n",
    "        registers[reg] = {\n",
    "            'inc': val + n,\n",
    "            'dec': val - n,\n",
    "        }[op]"
   ]
  },
  {
   "cell_type": "code",
   "execution_count": 4,
   "id": "c13c493f",
   "metadata": {},
   "outputs": [],
   "source": [
    "from collections import defaultdict\n",
    "\n",
    "registers = defaultdict(int)\n",
    "max_value = 0\n",
    "for action, condition in instructions:\n",
    "    do_instruction(action, condition)\n",
    "    max_value = max(max_value, max(registers.values()))"
   ]
  },
  {
   "cell_type": "code",
   "execution_count": 5,
   "id": "57eb9453",
   "metadata": {},
   "outputs": [
    {
     "name": "stdout",
     "output_type": "stream",
     "text": [
      "Part 1:\n",
      "7296\n"
     ]
    }
   ],
   "source": [
    "print(\"Part 1:\")\n",
    "print(max(registers.values()))"
   ]
  },
  {
   "cell_type": "code",
   "execution_count": 6,
   "id": "18f1a392",
   "metadata": {},
   "outputs": [
    {
     "name": "stdout",
     "output_type": "stream",
     "text": [
      "Part 2:\n",
      "8186\n"
     ]
    }
   ],
   "source": [
    "print(\"Part 2:\")\n",
    "print(max_value)"
   ]
  }
 ],
 "metadata": {
  "kernelspec": {
   "display_name": "Python 3",
   "language": "python",
   "name": "python3"
  },
  "language_info": {
   "codemirror_mode": {
    "name": "ipython",
    "version": 3
   },
   "file_extension": ".py",
   "mimetype": "text/x-python",
   "name": "python",
   "nbconvert_exporter": "python",
   "pygments_lexer": "ipython3",
   "version": "3.10.0"
  }
 },
 "nbformat": 4,
 "nbformat_minor": 5
}
