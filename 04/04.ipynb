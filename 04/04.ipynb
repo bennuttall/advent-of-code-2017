{
 "cells": [
  {
   "cell_type": "code",
   "execution_count": 30,
   "metadata": {},
   "outputs": [],
   "source": [
    "with open('input') as f:\n",
    "    passphrases = [line.split() for line in f]"
   ]
  },
  {
   "cell_type": "code",
   "execution_count": 10,
   "metadata": {},
   "outputs": [],
   "source": [
    "def valid_passphrase(passphrase):\n",
    "    return len(set(passphrase)) == len(passphrase)"
   ]
  },
  {
   "cell_type": "code",
   "execution_count": 11,
   "metadata": {},
   "outputs": [],
   "source": [
    "valid_passphrases = [\n",
    "    passphrase\n",
    "    for passphrase in passphrases\n",
    "    if valid_passphrase(passphrase)\n",
    "]"
   ]
  },
  {
   "cell_type": "code",
   "execution_count": 12,
   "metadata": {},
   "outputs": [
    {
     "name": "stdout",
     "output_type": "stream",
     "text": [
      "Part 1:\n",
      "455\n"
     ]
    }
   ],
   "source": [
    "print(\"Part 1:\")\n",
    "print(len(valid_passphrases))"
   ]
  },
  {
   "cell_type": "code",
   "execution_count": 27,
   "metadata": {},
   "outputs": [],
   "source": [
    "def valid_passphrase_2(passphrase):\n",
    "    word_sets_list = [''.join(sorted(word)) for word in passphrase]\n",
    "    word_sets_set = set(word_sets_list)\n",
    "    return len(word_sets_list) == len(word_sets_set)"
   ]
  },
  {
   "cell_type": "code",
   "execution_count": 28,
   "metadata": {},
   "outputs": [],
   "source": [
    "valid_passphrases_2 = [\n",
    "    passphrase\n",
    "    for passphrase in passphrases\n",
    "    if valid_passphrase_2(passphrase)\n",
    "]"
   ]
  },
  {
   "cell_type": "code",
   "execution_count": 29,
   "metadata": {},
   "outputs": [
    {
     "name": "stdout",
     "output_type": "stream",
     "text": [
      "Part 2:\n",
      "186\n"
     ]
    }
   ],
   "source": [
    "print(\"Part 2:\")\n",
    "print(len(valid_passphrases_2))"
   ]
  },
  {
   "cell_type": "code",
   "execution_count": null,
   "metadata": {},
   "outputs": [],
   "source": []
  }
 ],
 "metadata": {
  "kernelspec": {
   "display_name": "Python 3",
   "language": "python",
   "name": "python3"
  },
  "language_info": {
   "codemirror_mode": {
    "name": "ipython",
    "version": 3
   },
   "file_extension": ".py",
   "mimetype": "text/x-python",
   "name": "python",
   "nbconvert_exporter": "python",
   "pygments_lexer": "ipython3",
   "version": "3.8.5"
  }
 },
 "nbformat": 4,
 "nbformat_minor": 4
}
