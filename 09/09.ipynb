{
 "cells": [
  {
   "cell_type": "code",
   "execution_count": 1,
   "id": "68b43669",
   "metadata": {},
   "outputs": [],
   "source": [
    "with open('input') as f:\n",
    "    stream = f.read().strip()"
   ]
  },
  {
   "cell_type": "code",
   "execution_count": 2,
   "id": "d827b0a5",
   "metadata": {},
   "outputs": [],
   "source": [
    "def remove_cancelled_chars(stream):\n",
    "    new_stream = ''\n",
    "    i = 0\n",
    "    while True:\n",
    "        if i >= len(stream):\n",
    "            return new_stream\n",
    "        char = stream[i]\n",
    "        if char == '!':\n",
    "            i += 1\n",
    "        else:\n",
    "            new_stream += char\n",
    "        i += 1"
   ]
  },
  {
   "cell_type": "code",
   "execution_count": 3,
   "id": "96d97158",
   "metadata": {},
   "outputs": [],
   "source": [
    "def remove_garbage(stream):\n",
    "    new_stream = ''\n",
    "    garbage_count = 0\n",
    "    open_tag = False\n",
    "    for char in stream:\n",
    "        if open_tag:\n",
    "            if char == '>':\n",
    "                open_tag = False\n",
    "            else:\n",
    "                garbage_count += 1\n",
    "        elif char == '<':\n",
    "            open_tag = True\n",
    "        else:\n",
    "            new_stream += char\n",
    "    return (new_stream, garbage_count)"
   ]
  },
  {
   "cell_type": "code",
   "execution_count": 4,
   "id": "d85390e5",
   "metadata": {},
   "outputs": [],
   "source": [
    "def score_groups(stream):\n",
    "    score = 0\n",
    "    groups_open = 0\n",
    "    for char in stream:\n",
    "        if char == '{':\n",
    "            groups_open += 1\n",
    "        elif char == '}':\n",
    "            score += groups_open\n",
    "            groups_open -= 1\n",
    "    return score"
   ]
  },
  {
   "cell_type": "code",
   "execution_count": 5,
   "id": "7efbb3e9",
   "metadata": {},
   "outputs": [],
   "source": [
    "stream = remove_cancelled_chars(stream)\n",
    "stream, garbage_count = remove_garbage(stream)\n",
    "score = score_groups(stream)"
   ]
  },
  {
   "cell_type": "code",
   "execution_count": 6,
   "id": "b63234f7",
   "metadata": {},
   "outputs": [
    {
     "name": "stdout",
     "output_type": "stream",
     "text": [
      "Part 1:\n",
      "11089\n"
     ]
    }
   ],
   "source": [
    "print(\"Part 1:\")\n",
    "print(score)"
   ]
  },
  {
   "cell_type": "code",
   "execution_count": 7,
   "id": "10f16ccb",
   "metadata": {},
   "outputs": [
    {
     "name": "stdout",
     "output_type": "stream",
     "text": [
      "Part 2:\n",
      "5288\n"
     ]
    }
   ],
   "source": [
    "print(\"Part 2:\")\n",
    "print(garbage_count)"
   ]
  }
 ],
 "metadata": {
  "kernelspec": {
   "display_name": "Python 3",
   "language": "python",
   "name": "python3"
  },
  "language_info": {
   "codemirror_mode": {
    "name": "ipython",
    "version": 3
   },
   "file_extension": ".py",
   "mimetype": "text/x-python",
   "name": "python",
   "nbconvert_exporter": "python",
   "pygments_lexer": "ipython3",
   "version": "3.10.0"
  }
 },
 "nbformat": 4,
 "nbformat_minor": 5
}
