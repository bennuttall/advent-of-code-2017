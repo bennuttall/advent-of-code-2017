{
 "cells": [
  {
   "cell_type": "code",
   "execution_count": 1,
   "id": "26912328",
   "metadata": {},
   "outputs": [],
   "source": [
    "from collections import deque\n",
    "from itertools import islice\n",
    "\n",
    "def knot_hash(size, lengths):\n",
    "    circle = deque(range(size), maxlen=size)\n",
    "    steps = 0\n",
    "    rotated = 0\n",
    "    for ln in lengths:\n",
    "        for i, n in enumerate(reversed(list(islice(circle, ln)))):\n",
    "            circle[i] = n\n",
    "        circle.rotate(-(ln + steps))\n",
    "        rotated += ln + steps\n",
    "        steps += 1\n",
    "    circle.rotate(rotated)\n",
    "    return circle"
   ]
  },
  {
   "cell_type": "code",
   "execution_count": 2,
   "id": "b89d1462",
   "metadata": {},
   "outputs": [],
   "source": [
    "with open('input') as f:\n",
    "    input_txt = f.read().strip()"
   ]
  },
  {
   "cell_type": "code",
   "execution_count": 3,
   "id": "2f3b1527",
   "metadata": {},
   "outputs": [],
   "source": [
    "lengths = [int(i) for i in input_txt.split(',')]\n",
    "circle = knot_hash(256, lengths)"
   ]
  },
  {
   "cell_type": "code",
   "execution_count": 4,
   "id": "6e4b4576",
   "metadata": {},
   "outputs": [
    {
     "name": "stdout",
     "output_type": "stream",
     "text": [
      "Part 1:\n",
      "1935\n"
     ]
    }
   ],
   "source": [
    "print(\"Part 1:\")\n",
    "print(circle[0] * circle[1])"
   ]
  },
  {
   "cell_type": "code",
   "execution_count": 5,
   "id": "b1a5b34b",
   "metadata": {},
   "outputs": [],
   "source": [
    "from functools import reduce\n",
    "\n",
    "def dense_hash(block):\n",
    "    return reduce(lambda i, j: int(i) ^ int(j), block)"
   ]
  },
  {
   "cell_type": "code",
   "execution_count": 6,
   "id": "679c30b0",
   "metadata": {},
   "outputs": [],
   "source": [
    "def int_list_to_hex_string(ints):\n",
    "    return ''.join([f\"{hex(n)[2:].rjust(2, '0')}\" for n in ints])"
   ]
  },
  {
   "cell_type": "code",
   "execution_count": 7,
   "id": "b665df9b",
   "metadata": {},
   "outputs": [],
   "source": [
    "def knot_hash_2(size, input_txt):\n",
    "    length_suffix = [17, 31, 73, 47, 23]\n",
    "    lengths = [ord(i) for i in input_txt] + length_suffix\n",
    "    circle = deque(range(size), maxlen=size)\n",
    "    steps = 0\n",
    "    rotated = 0\n",
    "    for r in range(64):\n",
    "        for ln in lengths:\n",
    "            for i, n in enumerate(reversed(list(islice(circle, ln)))):\n",
    "                circle[i] = n\n",
    "            circle.rotate(-(ln + steps))\n",
    "            rotated += ln + steps\n",
    "            steps += 1\n",
    "    circle.rotate(rotated)\n",
    "    circle = list(circle)\n",
    "    dh = [dense_hash(circle[i:i+16]) for i in range(0, 256, 16)]\n",
    "    return int_list_to_hex_string(dh)"
   ]
  },
  {
   "cell_type": "code",
   "execution_count": 8,
   "id": "874242fc",
   "metadata": {},
   "outputs": [
    {
     "name": "stdout",
     "output_type": "stream",
     "text": [
      "Part 2:\n",
      "dc7e7dee710d4c7201ce42713e6b8359\n"
     ]
    }
   ],
   "source": [
    "print(\"Part 2:\")\n",
    "print(knot_hash_2(256, input_txt))"
   ]
  }
 ],
 "metadata": {
  "kernelspec": {
   "display_name": "Python 3",
   "language": "python",
   "name": "python3"
  },
  "language_info": {
   "codemirror_mode": {
    "name": "ipython",
    "version": 3
   },
   "file_extension": ".py",
   "mimetype": "text/x-python",
   "name": "python",
   "nbconvert_exporter": "python",
   "pygments_lexer": "ipython3",
   "version": "3.10.0"
  }
 },
 "nbformat": 4,
 "nbformat_minor": 5
}
